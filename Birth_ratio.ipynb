{
 "cells": [
  {
   "cell_type": "markdown",
   "id": "76049220",
   "metadata": {},
   "source": [
    "# 用Python计算出生比例问题"
   ]
  },
  {
   "cell_type": "markdown",
   "id": "3fffed5e",
   "metadata": {},
   "source": [
    "## 内容简介\n",
    "微博用户 @奥卡姆剃刀 在 2012 年 2 月 13 日 11:13 分发了一条微博，内容为“某国生男生女比例为1:1，国王为了抵御外敌入侵下令城民头胎生男者可续生，生女者禁生，几十年后，该国的男女比例能增加吗？”。教主tombkeeper转发此微博并给出了计算代码，得出结论为“男女比例将接近13：11”。（微博链接：https://weibo.com/1401527553/y5hUMDoD0 ）。以下尝试用python计算此数学概率。\n",
    "\n",
    "基本假设：仅生育二胎，出生婴儿均正常存活"
   ]
  },
  {
   "cell_type": "code",
   "execution_count": 6,
   "id": "d8e694e4",
   "metadata": {},
   "outputs": [],
   "source": [
    "import random\n",
    "#若男性计算为1，若女性计算为0"
   ]
  },
  {
   "cell_type": "markdown",
   "id": "442d87c5",
   "metadata": {},
   "source": [
    "### 情况1\n",
    "假设该国已出生100万婴儿，允许生男孩的家庭生育二胎。\n",
    "\n",
    "计算结果：该国新生儿总数将为150万人，男女比例1:1，计算过程如下"
   ]
  },
  {
   "cell_type": "code",
   "execution_count": 15,
   "id": "c7b50b4d",
   "metadata": {
    "scrolled": true
   },
   "outputs": [
    {
     "name": "stdout",
     "output_type": "stream",
     "text": [
      "1499279 0.9962917691922581\n"
     ]
    }
   ],
   "source": [
    "male = 0\n",
    "female = 0\n",
    "child = 0\n",
    "\n",
    "for i in range(0,1000000):\n",
    "    gender1 = round(random.random())\n",
    "    if gender1 == 0: \n",
    "        female += 1\n",
    "        child += 1\n",
    "    else:\n",
    "        gender2 = round(random.random())\n",
    "        child += 2\n",
    "        if gender2 == 0:\n",
    "            male += 1\n",
    "            female += 1\n",
    "        else:\n",
    "            male += 2\n",
    "\n",
    "ratio = male / female\n",
    "print(child,ratio)"
   ]
  },
  {
   "cell_type": "markdown",
   "id": "a5fe523f",
   "metadata": {},
   "source": [
    "### 情况2\n",
    "假设新生儿可能是头胎男孩、头胎女孩、二胎男孩、二胎女孩的概率相等，合计100万人。\n",
    "\n",
    "计算结果：男女比例将为2:1，计算过程如下"
   ]
  },
  {
   "cell_type": "code",
   "execution_count": 17,
   "id": "54f5d8e7",
   "metadata": {},
   "outputs": [
    {
     "name": "stdout",
     "output_type": "stream",
     "text": [
      "1000000 2.0006981047157075\n"
     ]
    }
   ],
   "source": [
    "male = 0\n",
    "female = 0\n",
    "child = 0\n",
    "\n",
    "for i in range(0,1000000):\n",
    "    random_number = random.random()\n",
    "    if random_number <= 0.25: #头胎男孩\n",
    "        male += 1\n",
    "        child += 1\n",
    "    elif 0.25 < random_number <= 0.5: #头胎女孩\n",
    "        female += 1\n",
    "        child += 1\n",
    "    elif 0.5 < random_number <= 0.75: #头胎男孩家庭的二胎男孩\n",
    "        male += 2\n",
    "        child += 1\n",
    "    elif 0.75 < random_number <= 1: #头胎男孩家庭的二胎女孩\n",
    "        male +=1\n",
    "        female +=1\n",
    "        child += 1\n",
    "ratio = male / female\n",
    "print(child,ratio)"
   ]
  },
  {
   "cell_type": "markdown",
   "id": "ffafefde",
   "metadata": {},
   "source": [
    "### 情况3\n",
    "假设头胎男孩、头胎女孩、二胎男孩、二胎女孩的概率相等，合计100万孕妇。该国对头胎为女孩的家庭实施强制堕胎。\n",
    "\n",
    "计算结果：男女比例仍为1:1，新生儿仅为一百万的三分之一。计算过程如下："
   ]
  },
  {
   "cell_type": "code",
   "execution_count": 19,
   "id": "09980568",
   "metadata": {},
   "outputs": [
    {
     "name": "stdout",
     "output_type": "stream",
     "text": [
      "333711 1.0011319094892746\n"
     ]
    }
   ],
   "source": [
    "male = 0\n",
    "female = 0\n",
    "child = 0\n",
    "\n",
    "for i in range(0,1000000):\n",
    "    random_number = round(random.randint(1,6))\n",
    "    if random_number == 1: #头胎男孩\n",
    "        male += 1\n",
    "        child += 1\n",
    "    elif random_number == 2: #头胎女孩\n",
    "        female += 1\n",
    "        child += 1\n",
    "    elif random_number == 3: #头胎男孩家庭的二胎男孩\n",
    "        male += 2\n",
    "    elif random_number == 4: #头胎男孩家庭的二胎女孩\n",
    "        male +=1\n",
    "        female +=1\n",
    "    elif random_number >4: #头胎女孩家庭二胎被堕胎\n",
    "        female +=1\n",
    "ratio = male / female\n",
    "print(child,ratio)"
   ]
  }
 ],
 "metadata": {
  "kernelspec": {
   "display_name": "Python 3 (ipykernel)",
   "language": "python",
   "name": "python3"
  },
  "language_info": {
   "codemirror_mode": {
    "name": "ipython",
    "version": 3
   },
   "file_extension": ".py",
   "mimetype": "text/x-python",
   "name": "python",
   "nbconvert_exporter": "python",
   "pygments_lexer": "ipython3",
   "version": "3.9.12"
  }
 },
 "nbformat": 4,
 "nbformat_minor": 5
}
