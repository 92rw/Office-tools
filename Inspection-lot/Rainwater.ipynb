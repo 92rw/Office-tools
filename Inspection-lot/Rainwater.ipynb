{
 "cells": [
  {
   "cell_type": "code",
   "execution_count": null,
   "metadata": {},
   "outputs": [],
   "source": [
    "#导入需要的基本族库\n",
    "import xlwings as xw\n",
    "import numpy as np\n",
    "import pandas as pd\n",
    "import datetime as dt\n",
    "import time\n",
    "import sys"
   ]
  },
  {
   "cell_type": "code",
   "execution_count": null,
   "metadata": {},
   "outputs": [],
   "source": [
    "#填写工程信息\n",
    "\n",
    "basic_info ={\"建设单位\": \"AAA\",    \n",
    "             \"监理单位\": \"BBB\",\n",
    "             \"施工单位\": \"CCC\",\n",
    "             \"项目经理\": \"DDD\",\n",
    "             \"专业工长\": \"EEE\"}\n",
    "\n",
    "basic_info[\"工程名称\"] = \"FFF\"\n",
    "basic_info[\"工程地点\"] = \"GGG\"\n",
    "basic_info[\"结构层数\"] = \"HHH\"\n",
    "basic_info[\"分部工程\"] = \"建筑给排水及供暖\"\n",
    "basic_info[\"分项工程\"] = \"雨水管道及配件安装\"\n",
    "basic_info[\"工序内容\"] = \"游泳馆重力雨水管道\"\n",
    "\n",
    "concealed_info = dict(\"施工图编号\" : \"11-001~11-004\")\n",
    "\n",
    "basic_info"
   ]
  },
  {
   "cell_type": "markdown",
   "metadata": {},
   "source": [
    "# 工程质量报验表"
   ]
  },
  {
   "cell_type": "code",
   "execution_count": null,
   "metadata": {},
   "outputs": [],
   "source": [
    "wb1 = xw.Book(str(folder_path +'\\\\标准表格\\\\B.1.4 工程质量报验表.xls'))\n",
    "sheet1 = wb1.sheets[0]\n",
    "#\n",
    "sheet1.range('I5').value = basic_info[\"工程名称\"]\n",
    "sheet1.range('E7').value = basic_info[\"监理单位\"]\n",
    "sheet1.range('K8').value = basic_info[\"工序内容\"]+\"及配件安装\"\n",
    "#表格的编号可在此进行指定\n",
    "#sheet1.range('AU5').value = 表格编号\n",
    "#sheet1.range('BC5').value = 表格编号\n",
    "wb1.save(str(folder_path+\"\\\\工序报验\\\\B.1.4 工程质量报验表 - %s.xls\") % basic_info[\"工序内容\"])\n",
    "wb1.close()"
   ]
  },
  {
   "cell_type": "markdown",
   "metadata": {},
   "source": [
    "# 管道隐蔽验收表格"
   ]
  },
  {
   "cell_type": "code",
   "execution_count": null,
   "metadata": {},
   "outputs": [],
   "source": [
    "# 隐蔽验收表格需要指定的内容\n",
    "\n",
    "concealed_info = {\"隐蔽工程验收内容和设计及规范要求\":\n",
    "    \"规范要求：隐蔽或埋地的排水管道在隐蔽前必须做灌水试验，其灌水高度应不低于底层卫生器具的上边缘或底层地面高度。\",\n",
    "                 \"通水试验结果\":\"通水试验时，水流量正常，出水口出水通畅，无渗漏。\",\n",
    "                \"使用的主要材料检查记录\":\"管道使用HDPE双壁中空超静音排水管，符合要求\",\n",
    "                 \"施工质量检查记录\":\"安装方式、位置均符合设计及规范要求\"}"
   ]
  },
  {
   "cell_type": "code",
   "execution_count": null,
   "metadata": {},
   "outputs": [],
   "source": [
    "wb2 = xw.Book(str(folder_path +'\\\\标准表格\\\\SN2.5.1 管道隐蔽验收记录.xls'))\n",
    "sheet2 = wb2.sheets[0]\n",
    "#\n",
    "sheet2.range('E4').value = basic_info[\"工程名称\"]\n",
    "sheet2.range('P4').value = basic_info[\"工程地点\"]\n",
    "sheet2.range('E5').value = basic_info[\"施工单位\"]\n",
    "sheet2.range('P5').value = basic_info[\"项目经理\"]\n",
    "sheet2.range('U5').value = basic_info[\"专业工长\"]\n",
    "sheet2.range('E6').value = \"/\"#分包单位\n",
    "sheet2.range('P6').value = \"/\"#分包负责人\n",
    "sheet2.range('U6').value = \"/\"#分包单位专业工长\n",
    "sheet2.range('E7').value = basic_info[\"分部工程\"]\n",
    "sheet2.range('P7').value = basic_info[\"分项工程\"]\n",
    "sheet2.range('E8').value = basic_info[\"工序内容\"]+\"隐蔽工程\"\n",
    "sheet2.range('P8').value = concealed_info[\"施工图编号\"]\n",
    "sheet2.range('E9').value = concealed_info[\"隐蔽工程验收内容和设计及规范要求\"]\n",
    "sheet2.range('E14').value = concealed_info[\"使用的主要材料检查记录\"]\n",
    "sheet2.range('O14').value = concealed_info[\"施工质量检查记录\"]\n",
    "\n",
    "wb2.save(str(folder_path+\"\\\\工序报验\\\\SN2.5.1 管道隐蔽验收记录 - %s.xls\") % basic_info[\"工序内容\"])\n",
    "#隐蔽验收部位的信息需要根据实际填写，故表格不关闭\n"
   ]
  },
  {
   "cell_type": "markdown",
   "metadata": {},
   "source": [
    "**注明** 隐蔽验收部位的信息需要根据实际填写，故表格不关闭，需填写后再保存文件"
   ]
  },
  {
   "cell_type": "markdown",
   "metadata": {},
   "source": [
    "# 完成管道支、吊架安装记录"
   ]
  },
  {
   "cell_type": "code",
   "execution_count": null,
   "metadata": {},
   "outputs": [],
   "source": [
    "\n",
    "wb3 = xw.Book(str(folder_path +'\\\\标准表格\\\\SN2.6.1 管道支、吊架安装记录.xls'))\n",
    "sheet3 = wb3.sheets[0]\n",
    "#\n",
    "sheet3.range('C1').value = basic_info[\"分项工程\"]\n",
    "sheet3.range('C3').value = basic_info[\"工程名称\"]\n",
    "sheet3.range('L3').value = basic_info[\"建设单位\"]\n",
    "sheet3.range('C4').value = basic_info[\"监理单位\"]\n",
    "sheet3.range('L4').value = basic_info[\"施工单位\"]\n",
    "sheet3.range('C5').value = basic_info[\"分项工程\"]\n",
    "sheet3.range('L5').value = basic_info[\"工序内容\"]\n",
    "\n",
    "wb3.save(str(folder_path+\"\\\\工序报验\\\\SN2.6.1 管道支、吊架安装记录 - %s.xls\") % basic_info[\"工序内容\"])\n",
    "#管道支、吊架安装记录的信息需要根据实际填写，故表格不关闭\n",
    "\n"
   ]
  },
  {
   "cell_type": "markdown",
   "metadata": {},
   "source": [
    "# 管道通水记录"
   ]
  },
  {
   "cell_type": "code",
   "execution_count": null,
   "metadata": {},
   "outputs": [],
   "source": [
    "wb4 = xw.Book(str(folder_path +'\\\\标准表格\\\\SN2.7.2 通水试验记录.xls'))\n",
    "sheet4 = wb4.sheets[0]\n",
    "#\n",
    "sheet4.range('I2').value = basic_info[\"工序内容\"]\n",
    "sheet4.range('G5').value = basic_info[\"工程名称\"]\n",
    "sheet4.range('V5').value = basic_info[\"建设单位\"]\n",
    "sheet4.range('G6').value = basic_info[\"施工单位\"]\n",
    "sheet4.range('V6').value = basic_info[\"监理单位\"]\n",
    "sheet4.range('B17').value = concealed_info[\"通水试验结果\"]\n",
    "wb4.save(str(folder_path+\"\\\\工序报验\\\\SN2.7.2 通水试验记录 - %s.xls\") % basic_info[\"工序内容\"])\n",
    "#管道支、吊架安装记录的信息需要根据实际填写，故表格不关闭"
   ]
  },
  {
   "cell_type": "markdown",
   "metadata": {},
   "source": [
    "# 检验批记录\n"
   ]
  },
  {
   "cell_type": "markdown",
   "metadata": {},
   "source": [
    "可以提升的点："
   ]
  },
  {
   "cell_type": "code",
   "execution_count": null,
   "metadata": {},
   "outputs": [],
   "source": [
    "docu_info = {\"检验批容量\":\"400米\",\"施工依据\":\"《水暖卫生设备工程》DGJ32/J39-2006\",\n",
    "             \"验收依据\":\"设计文件和《建筑给水排水及采暖工程质量验收规范》GB50242-2002\",\n",
    "            \"试验结果\":\"总测点数：10，合格点数：10。\\n合格点率：100%\"}"
   ]
  },
  {
   "cell_type": "code",
   "execution_count": null,
   "metadata": {},
   "outputs": [],
   "source": [
    "wb5 = xw.Book(str(folder_path +'\\\\标准表格\\\\SN4.2.2.1 雨水检验批验收记录.xls'))\n",
    "sheet5 = wb5.sheets[0]\n",
    "#\n",
    "\n",
    "sheet5.range('G4').value = basic_info[\"工程名称\"]\n",
    "sheet5.range('P4').value = basic_info[\"分部工程\"]\n",
    "sheet5.range('X4').value = basic_info[\"分项工程\"]\n",
    "sheet5.range('G5').value = basic_info[\"施工单位\"]\n",
    "sheet5.range('P5').value = basic_info[\"项目经理\"]\n",
    "sheet5.range('G6').value = \"/\"#分包单位名称\n",
    "sheet5.range('P6').value = \"/\"#分包项目负责人\n",
    "sheet5.range('X5').value = docu_info[\"检验批容量\"]\n",
    "sheet5.range('X6').value = basic_info[\"工序内容\"]\n",
    "sheet5.range('G7').value = docu_info[\"施工依据\"]\n",
    "sheet5.range('P7').value = docu_info[\"验收依据\"]\n",
    "sheet5.range('S26').value = docu_info[\"试验结果\"]\n",
    "wb5.save(str(folder_path+\"\\\\工序报验\\\\SN4.2.2.1 雨水检验批验收记录 - %s.xls\") % basic_info[\"工序内容\"])\n",
    "#检验批原始资料中的数据需要根据实际填写，故表格不关闭"
   ]
  },
  {
   "cell_type": "code",
   "execution_count": null,
   "metadata": {},
   "outputs": [],
   "source": []
  }
 ],
 "metadata": {
  "kernelspec": {
   "display_name": "Python 3",
   "language": "python",
   "name": "python3"
  },
  "language_info": {
   "codemirror_mode": {
    "name": "ipython",
    "version": 3
   },
   "file_extension": ".py",
   "mimetype": "text/x-python",
   "name": "python",
   "nbconvert_exporter": "python",
   "pygments_lexer": "ipython3",
   "version": "3.8.3"
  }
 },
 "nbformat": 4,
 "nbformat_minor": 2
}
