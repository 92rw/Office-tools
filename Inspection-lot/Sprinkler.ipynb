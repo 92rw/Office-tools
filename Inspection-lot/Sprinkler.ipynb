{
 "cells": [
  {
   "cell_type": "markdown",
   "metadata": {},
   "source": [
    "# 程序说明\n",
    "\n",
    "自动填写消防喷林系统检验批报告。部分表格需要补充填写现场实际信息，该表格运行后将只完成基本内容的填写，其余部分仍需自行补充完善。"
   ]
  },
  {
   "cell_type": "code",
   "execution_count": null,
   "metadata": {},
   "outputs": [],
   "source": [
    "#导入需要的基本族库\n",
    "import xlwings as xw\n",
    "import numpy as np\n",
    "import pandas as pd\n",
    "import datetime as dt\n",
    "import time\n",
    "import sys\n",
    "import os\n"
   ]
  },
  {
   "cell_type": "markdown",
   "metadata": {},
   "source": [
    "#### 需要在指定目录下放置文件“` 喷淋检验批数据.xlsx `”，并将模板表格放在该目录下的“` 标准表格 `”文件夹内。\n",
    "\n",
    "#### 表格` 喷淋检验批数据.xlsx `的内容如下：\n",
    "\n",
    "* 工作表1，命名为\"**可调信息**\"\n",
    "\n",
    "| 区域划分   | AAA地下1层消防喷淋管道 | AAA1层消防喷淋管道   | AAA2层消防喷淋管道   | AAA3层消防喷淋管道   |\n",
    "| ------ | ------------- | ------------- | ------------- | ------------- |\n",
    "| 检验批容量  | 800米          | 1200米         | 500米          | 500米          |\n",
    "| 水压试验日期 | 2020/9/21     | 2020/9/21     | 2020/9/21     | 2020/9/21     |\n",
    "| 施工图编号  | 21-001，22-002 | 21-002，22-002 | 21-003，22-002 | 21-004，22-002 |\n",
    "| 材质     | 热浸锌镀锌钢管       | 热浸锌镀锌钢管       | 热浸锌镀锌钢管       | 热浸锌镀锌钢管       |\n",
    "| 规格     | DN25~DN150    | DN25~DN150    | DN25~DN150    | DN25~DN150    |\n",
    "| 是否隐蔽   | 否             | 是             | 是             | 否             |\n",
    "| 工程名称   | CCC           | CCC           | CCC           | CCC           |\n",
    "| 结构层数   | EEE           | EEE           | EEE           | EEE           |\n",
    "\n",
    "\n",
    "* 工作表2，命名为“**基本信息**”\n",
    "\n",
    "| 待填数据    | 基本信息      |\n",
    "| ------- | --------- |\n",
    "| 建设单位    | AAA       |\n",
    "| 监理单位    | BBB       |\n",
    "| 施工单位    | CCC       |\n",
    "| 项目经理    | DDD       |\n",
    "| 专业工长    | EEE       |\n",
    "| 工程地点    | FFF       |\n",
    "| 工作压力    | 0.95      |\n",
    "| 强度试验压力  | 1.45      |\n",
    "| 试压泵生产厂  | GGG       |\n",
    "| 规格型号    | HHH       |\n",
    "| 仪表检验证号  | III       |\n",
    "| 仪表编号及精度 | JJJ       |\n",
    "| 校验有效日期  | KKK       |\n",
    "| 试验介质    | 水         |\n",
    "| 分部工程    | 建筑给水排水及供暖 |\n",
    "| 分项工程    | 消防喷淋系统安装  |\n",
    "| 工作介质    | 水         |\n"
   ]
  },
  {
   "cell_type": "code",
   "execution_count": null,
   "metadata": {},
   "outputs": [],
   "source": [
    "folder_path=input('请输入基本信息所在的文件夹路径：')\n",
    "docu_file = str(folder_path+os.sep +'喷淋检验批数据.xlsx')#基础数据所在表格\n",
    "docu_list = pd.read_excel(docu_file)"
   ]
  },
  {
   "cell_type": "code",
   "execution_count": null,
   "metadata": {},
   "outputs": [],
   "source": [
    "docu_area = input('本次填写的检验批内容：') #调用基础数据里面的信息\n",
    "if docu_area in docu_list.columns:\n",
    "    basic_info = pd.read_excel(docu_file).set_index(\"区域划分\")[docu_area].to_dict()#默认从第一个工作簿中获取数据\n",
    "    basic_info.update(pd.read_excel(docu_file,sheet_name = '基本信息').set_index(\"待填数据\")[\"基本信息\"].to_dict())\n",
    "    basic_info['工序内容'] = docu_area\n",
    "else:\n",
    "    print('程序运行失败')"
   ]
  },
  {
   "cell_type": "code",
   "execution_count": null,
   "metadata": {},
   "outputs": [],
   "source": [
    "basic_info#用于检查此次运行结果是否满足要求"
   ]
  },
  {
   "cell_type": "markdown",
   "metadata": {},
   "source": [
    "# B.1.4 工程质量报验表\n",
    "\n",
    "如果需要指定表格编号，可在下面#处进行修改"
   ]
  },
  {
   "cell_type": "code",
   "execution_count": null,
   "metadata": {},
   "outputs": [],
   "source": [
    "app = xw.App(visible=False,add_book=False)\n",
    "wb0 = app.books.open(str(folder_path +'\\\\标准表格\\\\B.1.4 工程质量报验表.xls'))\n",
    "sheet0 = wb0.sheets[0]\n",
    "\n",
    "\n",
    "sheet0.range('I5').value = basic_info[\"工程名称\"]\n",
    "sheet0.range('E7').value = basic_info[\"监理单位\"]\n",
    "sheet0.range('K8').value = basic_info[\"工序内容\"]+\"及配件安装\"\n",
    "#表格的编号可在此进行指定\n",
    "#sheet0.range('AS5').value = 表格编号\n",
    "#sheet0.range('BA5').value = 表格编号\n",
    "wb0.save(str(folder_path+\"\\\\工序报验\\\\%s - 00工程质量报验表.xls\") % basic_info[\"工序内容\"])\n",
    "wb0.close()\n",
    "app.quit()"
   ]
  },
  {
   "cell_type": "markdown",
   "metadata": {},
   "source": [
    "# 隐蔽资料\n",
    "\n",
    "- **SN2.4.1阀门的水压试验记录**：由于阀门用于整个项目，因此只需要做一次"
   ]
  },
  {
   "cell_type": "markdown",
   "metadata": {},
   "source": [
    "###  SN2.4.2 管道水压试验记录\n",
    "\n",
    "- 1、《建筑给水排水及采暖工程施工质量验收规范》GB50242-2002第4.2.1条：\n",
    "\n",
    "        ①金属及复合管给水管道系统在试验压力下观测10min，压力降不应大于0．02MPa，然后降到工作压力进行检查，应不渗不漏；\n",
    "\n",
    "        ②塑料管给水系统应在试验压力下稳压1h，压力降不得超过0.05MPa，然后在工作压力的1.15倍状态下稳压2h，压力降不得超过0．03MPa，同时检查各连接处不得渗漏。\n",
    "\n",
    "- 2、《消防给水及消火栓系统技术规范》GB50974-2014第12.4.3条：\n",
    "\n",
    "      水压强度试验的测试点应设在系统管网的最低点。对管网注水时，应将管网内的空气排净，并应缓慢升压，达到试验压力后，稳压30min后，管网应无泄漏、无变形，且压力降不应大于0.05MPa。\n",
    "\n",
    "- 3、《自动喷水灭火系统施工及验收规范》GB50261-2017第6.2.2条：\n",
    "\n",
    "      水压强度试验的测试点应设在系统管网的最低点。对管网注水时应将管网内的空气排净，并应缓慢升压，达到试验压力后稳压30min后，管网应无泄漏、无变形，且压力降不应大于0.05MPa。"
   ]
  },
  {
   "cell_type": "code",
   "execution_count": null,
   "metadata": {},
   "outputs": [],
   "source": [
    "#水压试验的资料\n",
    "pressure_date = basic_info['水压试验日期']\n",
    "#管道冲洗时间\n",
    "flushing_date = pressure_date + dt.timedelta(days = 1)\n",
    "\n",
    "#设置强度试验开始时间\n",
    "initial_time = dt.timedelta(hours=8,minutes=30, seconds=0)\n",
    "\n",
    "#强度试验与严密性试验间隔\n",
    "span_time = dt.timedelta(hours = 3,minutes=30)\n",
    "\n",
    "#强度试验持续时间\n",
    "pressure_duration = dt.timedelta(hours = 2, minutes = 0)\n",
    "\n",
    "#严密性试验持续时间\n",
    "leak_duration = dt.timedelta(hours = 24) #days = 1\n",
    "\n",
    "#计算公式\n",
    "pressure_start = pressure_date + initial_time\n",
    "pressure_end = pressure_start + pressure_duration\n",
    "leak_start = pressure_end + span_time\n",
    "leak_end = leak_start + leak_duration\n",
    "\n",
    "#其他数据\n",
    "pressure_result = { \"强度试验压力降\" : 0 , \"严密性试验压力降\": 0 ,\"试验情况\":\"各连接处无渗漏\"}\n",
    "pressure_result[\"施工单位检测结果\"]=\"    管道水压试验符合设计及《建筑给水排水及采暖工程施工质量验收规范》（GB50242-2002）规定要求，试验合格。\""
   ]
  },
  {
   "cell_type": "markdown",
   "metadata": {},
   "source": [
    "**代入水压试验的信息填写表格**\n",
    "\n",
    "注意：需在目录下创建“工序报验”建立文件夹"
   ]
  },
  {
   "cell_type": "code",
   "execution_count": null,
   "metadata": {},
   "outputs": [],
   "source": [
    "# 工作簿\n",
    "app = xw.App(visible=False,add_book=False)\n",
    "wb1 = app.books.open(str(folder_path +'\\\\标准表格\\\\SN2.4.2 给水管道水压试验记录.xls'))\n",
    "sheet1 = wb1.sheets[0]\n",
    "\n",
    "#表头信息\n",
    "sheet1.range('C3').value = basic_info[\"工程名称\"]\n",
    "sheet1.range('H3').value = basic_info[\"分项工程\"]\n",
    "sheet1.range('C4').value = basic_info[\"建设单位\"]\n",
    "sheet1.range('H4').value = basic_info[\"监理单位\"]\n",
    "sheet1.range('C5').value = basic_info[\"施工单位\"]\n",
    "sheet1.range('G5').value = basic_info[\"专业工长\"]\n",
    "sheet1.range('J5').value = pressure_date.strftime('%Y-%m-%d')\n",
    "sheet1.range('C6').value = basic_info[\"试压泵生产厂\"]\n",
    "sheet1.range('G6').value = basic_info[\"规格型号\"]\n",
    "sheet1.range('J6').value = basic_info[\"试验介质\"]\n",
    "sheet1.range('C7').value = basic_info[\"仪表检验证号\"]\n",
    "sheet1.range('G7').value = basic_info[\"仪表编号及精度\"]\n",
    "sheet1.range('J7').value = basic_info[\"校验有效日期\"]\n",
    "sheet1.range('A10').value = basic_info[\"工序内容\"]\n",
    "\n",
    "#强度试验\n",
    "sheet1.range('B10').value = \"强度试验\"\n",
    "sheet1.range('C10').value = basic_info[\"工作压力\"]\n",
    "sheet1.range('D10').value = basic_info[\"强度试验压力\"]\n",
    "sheet1.range('E10').value = pressure_start.strftime('%Y.%m.%d %H:%M')\n",
    "sheet1.range('F10').value = pressure_end.strftime('%Y.%m.%d %H:%M')\n",
    "\n",
    "#严密性试验\n",
    "sheet1.range('c10').value = \"严密性试验\"\n",
    "sheet1.range('C11').value = basic_info[\"工作压力\"]\n",
    "sheet1.range('D11').value = basic_info[\"工作压力\"]\n",
    "sheet1.range('E11').value = leak_start.strftime('%Y.%m.%d %H:%M')\n",
    "sheet1.range('F11').value = leak_end.strftime('%Y.%m.%d %H:%M')\n",
    "\n",
    "#其他信息\n",
    "sheet1.range('G10').value = pressure_result[\"强度试验压力降\"]\n",
    "sheet1.range('G11').value = pressure_result[\"严密性试验压力降\"]\n",
    "sheet1.range('K10').value = pressure_result[\"试验情况\"]\n",
    "sheet1.range('K11').value = pressure_result[\"试验情况\"]\n",
    "sheet1.range('C26').value = pressure_result[\"施工单位检测结果\"]\n",
    "\n",
    "wb1.save(str(folder_path+\"\\\\工序报验\\\\%s - 02给水管道水压试验记录.xls\") % basic_info[\"工序内容\"])\n",
    "wb1.close()\n",
    "app.quit()"
   ]
  },
  {
   "cell_type": "markdown",
   "metadata": {},
   "source": [
    "### SN2.5.1 管道隐蔽验收记录"
   ]
  },
  {
   "cell_type": "code",
   "execution_count": null,
   "metadata": {},
   "outputs": [],
   "source": [
    "# 隐蔽验收表格需要指定的内容\n",
    "concealed_info = {\"隐蔽工程验收内容和设计及规范要求\":\n",
    "\"隐蔽内容及部位：精装吊顶区域及管井内喷淋管道安装符合设计及规范要求；根据图纸所有阀门安装到位，管道支架安装符合设计规范，管道压力试验符合设计规范及施工质量验收规范\"}\n",
    "concealed_info['施工质量检查记录'] = \"安装方式、位置均符合设计及规范要求\""
   ]
  },
  {
   "cell_type": "code",
   "execution_count": null,
   "metadata": {},
   "outputs": [],
   "source": [
    "\n",
    "# 工作簿\n",
    "app = xw.App(visible=False,add_book=False)\n",
    "wb2 = app.books.open(str(folder_path +'\\\\标准表格\\\\SN2.5.1 管道隐蔽验收记录.xls'))\n",
    "sheet2 = wb2.sheets[0]\n",
    "\n",
    "#\n",
    "sheet2.range('E4').value = basic_info[\"工程名称\"]\n",
    "sheet2.range('P4').value = basic_info[\"工程地点\"]\n",
    "sheet2.range('E5').value = basic_info[\"施工单位\"]\n",
    "sheet2.range('P5').value = basic_info[\"项目经理\"]\n",
    "sheet2.range('U5').value = basic_info[\"专业工长\"]\n",
    "sheet2.range('E6').value = \"/\"#分包单位\n",
    "sheet2.range('P6').value = \"/\"#分包负责人\n",
    "sheet2.range('U6').value = \"/\"#分包单位专业工长\n",
    "sheet2.range('E7').value = basic_info[\"分部工程\"]\n",
    "sheet2.range('P7').value = basic_info[\"分项工程\"]\n",
    "sheet2.range('E8').value = basic_info[\"工序内容\"]+\"隐蔽工程\"\n",
    "sheet2.range('P8').value = basic_info[\"施工图编号\"]\n",
    "sheet2.range('E9').value = concealed_info[\"隐蔽工程验收内容和设计及规范要求\"]\n",
    "sheet2.range('B14').value = basic_info[\"工序内容\"]\n",
    "sheet2.range('E14').value = \"管道使用%s（%s），符合要求\" % (basic_info['材质'],basic_info['规格'])\n",
    "sheet2.range('O14').value = concealed_info[\"施工质量检查记录\"]\n",
    "\n",
    "if basic_info[\"是否隐蔽\"] == \"是\":\n",
    "    wb2.save(str(folder_path+\"\\\\工序报验\\\\%s - 03管道隐蔽验收记录.xls\") % basic_info[\"工序内容\"])\n",
    "    wb2.close()\n",
    "else:\n",
    "        wb2.close()\n",
    "app.quit()"
   ]
  },
  {
   "cell_type": "markdown",
   "metadata": {},
   "source": [
    "**注明** 隐蔽验收部位的信息可能还有没填完的内容，日后需进行检查"
   ]
  },
  {
   "cell_type": "markdown",
   "metadata": {},
   "source": [
    "# SN2.6.1 管道支、吊架安装记录\n",
    "\n",
    "存在问题：不同规格管道使用的支架形式不同，因此需要根据现场实际进行修改"
   ]
  },
  {
   "cell_type": "code",
   "execution_count": null,
   "metadata": {},
   "outputs": [],
   "source": [
    "wb3 = xw.Book(str(folder_path +'\\\\标准表格\\\\SN2.6.1  管道支、吊架安装记录.xls'))\n",
    "sheet3 = wb3.sheets[0]\n",
    "#\n",
    "sheet3.range('C1').value = basic_info[\"分项工程\"]\n",
    "sheet3.range('C3').value = basic_info[\"工程名称\"]\n",
    "sheet3.range('L3').value = basic_info[\"建设单位\"]\n",
    "sheet3.range('C4').value = basic_info[\"监理单位\"]\n",
    "sheet3.range('L4').value = basic_info[\"施工单位\"]\n",
    "sheet3.range('C5').value = basic_info[\"分项工程\"]\n",
    "sheet3.range('L5').value = basic_info[\"工序内容\"]\n",
    "\n",
    "if basic_info[\"是否隐蔽\"] == \"是\":\n",
    "    wb3.save(str(folder_path+\"\\\\工序报验\\\\%s - 04管道支、吊架安装记录-待修改.xls\") % basic_info[\"工序内容\"])\n",
    "else:\n",
    "        wb3.save(str(folder_path+\"\\\\工序报验\\\\%s - 03管道支、吊架安装记录-待修改.xls\") % basic_info[\"工序内容\"])\n",
    " #wb3.close()\n",
    "\n",
    "#管道支、吊架安装记录的信息需要根据实际填写，故表格不关闭\n",
    "\n"
   ]
  },
  {
   "cell_type": "markdown",
   "metadata": {},
   "source": [
    "# SN2.7.1 管道系统清（冲）洗记录"
   ]
  },
  {
   "cell_type": "code",
   "execution_count": null,
   "metadata": {},
   "outputs": [],
   "source": [
    "concealed_info[\"冲洗标准\"] = \"以系统最大设计流量进行冲洗，直至出水口的水色透明度与目测一致为合格\"\n",
    "concealed_info[\"标准依据\"] = \"《建筑给水排水及采暖工程施工质量验收规范》GB50242-2016及设计要求\"\n",
    "concealed_info[\"冲洗结果记录\"] = '出水口水质清澈透明不浑浊，与进水水质相同'\n"
   ]
  },
  {
   "cell_type": "code",
   "execution_count": null,
   "metadata": {},
   "outputs": [],
   "source": [
    "wb4 = xw.Book(str(folder_path +'\\\\标准表格\\\\SN2.7.1 管道系统清（冲）洗记录.xls'))\n",
    "sheet4 = wb4.sheets[0]\n",
    "\n",
    "sheet4.range('G2').value = basic_info[\"分项工程\"]\n",
    "sheet4.range('G5').value = basic_info[\"工程名称\"]\n",
    "sheet4.range('V5').value = basic_info[\"建设单位\"]\n",
    "sheet4.range('G6').value = basic_info[\"监理单位\"]\n",
    "sheet4.range('V6').value = basic_info[\"施工单位\"]\n",
    "sheet4.range('G7').value = basic_info[\"工序内容\"]\n",
    "sheet4.range('V7').value = flushing_date.strftime('%Y.%m.%d')\n",
    "sheet4.range('B9').value = basic_info[\"材质\"]\n",
    "sheet4.range('L9').value = basic_info[\"规格\"]\n",
    "sheet4.range('V9').value = basic_info[\"工作介质\"]\n",
    "sheet4.range('G10').value = concealed_info[\"冲洗标准\"]\n",
    "sheet4.range('G11').value = concealed_info[\"标准依据\"]\n",
    "sheet4.range('B13').value = basic_info[\"工序内容\"]\n",
    "sheet4.range('R13').value = concealed_info[\"冲洗结果记录\"]\n",
    "\n",
    "if basic_info[\"是否隐蔽\"] == \"是\":\n",
    "    wb4.save(str(folder_path+\"\\\\工序报验\\\\%s - 05通水试验记录.xls\") % basic_info[\"工序内容\"])\n",
    "else:\n",
    "        wb4.save(str(folder_path+\"\\\\工序报验\\\\%s - 04通水试验记录.xls\") % basic_info[\"工序内容\"])\n",
    " #wb4.close()\n",
    "#管道支、吊架安装记录的信息需要根据实际填写，故表格不关闭\n"
   ]
  },
  {
   "cell_type": "markdown",
   "metadata": {},
   "source": [
    "# SN4.1.1.1 给水管道及配件安装检验批质量验收记录"
   ]
  },
  {
   "cell_type": "code",
   "execution_count": null,
   "metadata": {},
   "outputs": [],
   "source": [
    "docu_info = {\"施工依据\":\"《建筑给水排水及供暖工程施工技术标准》ZJQ08-SGJB242-2017\",\n",
    "             \"验收依据\":\"设计文件和《自动喷水灭火系统施工及验收规范》GB50261-2017\",\n",
    "            }"
   ]
  },
  {
   "cell_type": "code",
   "execution_count": null,
   "metadata": {},
   "outputs": [],
   "source": [
    "wb5 = xw.Book(str(folder_path +'\\\\标准表格\\\\SN4.1.1.1 给水管道及配件安装检验批质量验收记录.xls'))\n",
    "inspection_lot = wb5.sheets[0]\n",
    "original_record = wb5.sheets[1]\n",
    "#\n",
    "\n",
    "inspection_lot.range('N4').value = basic_info[\"工程名称\"]\n",
    "inspection_lot.range('AV4').value = basic_info[\"分部工程\"]\n",
    "inspection_lot.range('BU4').value = basic_info[\"分项工程\"]\n",
    "inspection_lot.range('N5').value = basic_info[\"施工单位\"]\n",
    "inspection_lot.range('AV5').value = basic_info[\"项目经理\"]\n",
    "inspection_lot.range('N6').value = \"/\"#分包单位名称\n",
    "inspection_lot.range('AV6').value = \"/\"#分包项目负责人\n",
    "inspection_lot.range('BU5').value = basic_info[\"检验批容量\"]\n",
    "inspection_lot.range('BU6').value = basic_info[\"工序内容\"]\n",
    "inspection_lot.range('N7').value = docu_info[\"施工依据\"]\n",
    "inspection_lot.range('AV7').value = docu_info[\"验收依据\"]\n",
    "\n",
    "#给水管道水压试验设计要求及规范规定\n",
    "inspection_lot.range('X9').value=\"设计要求：试验压力%.2fMPa\" % basic_info[\"强度试验压力\"]\n",
    "\n",
    "#直埋金属给水管道防腐\n",
    "corrosion_prevention = \"/\"\n",
    "inspection_lot.range('BD19').value = corrosion_prevention\n",
    "\n",
    "\n",
    "#给水引入管与排水排出管的水平净距不得小于1m。\n",
    "inlet_outlet = np.random.randint(10,21)/10  #≥1\n",
    "#室内给水与排水管道平行敷设时，两管间的最小水平净距不得小于0.5m；\n",
    "parallel_laying = np.random.randint(5,16)/10 #≥0.5\n",
    "#交叉铺设时，垂直净距不得小于0.15m。\n",
    "cross_laying = np.random.randint(15,31)/100 #≥0.15\n",
    "#给水管必须铺在排水管下面时，给水管应加套管，其长度不得小于排水管管道径的3倍\n",
    "casing_pipe = \"上\"#否则加套管\n",
    "\n",
    "inspection_lot.range('BD22').value =\"1.给水引入管与排水排出管的水平净距（{}）米；\\n2.室内给水与排水管道：平行敷设时两管间的最小水平净距（{}）米；交叉铺设时垂直净距（{}）米；\\n3.给水管铺在排水管（{}）面。\".format(inlet_outlet,parallel_laying,cross_laying,casing_pipe) \n",
    "original_record.range('AC10').value =\"1.给水引入管与排水排出管的水平净距{}米；\\n2.室内给水与排水管道：平行敷设时两管间的最小水平净距{}米；交叉铺设时垂直净距{}米；\\n3.给水管铺在排水管{}面。\".format(inlet_outlet,parallel_laying,cross_laying,casing_pipe)\n",
    "\n",
    "#金属给水管道及管件焊接\n",
    "inspection_lot.range('BD27').value =\"DN50及以下管道采用螺纹连接，DN50以上管道采用沟槽连接，无焊接管道\"\n",
    "original_record.range('AC11').value = \"DN50及以下管道采用螺纹连接，DN50以上管道采用沟槽连接，无焊接管道\"\n",
    "\n",
    "#给水水平管道应有2‰～5‰的坡度坡向泄水装置。\n",
    "pipe_slope = \"给水水平管道的坡度：{}‰\\n坡向：泄水装置\".format(np.random.randint(2,5+1))\n",
    "inspection_lot.range('BD31').value = pipe_slope\n",
    "original_record.range('AC12').value = pipe_slope\n",
    "\n",
    "#管道支吊架\n",
    "inspection_lot.range('BD35').value =\"管道支吊架的安装：平整牢固\\n其间距符合图纸和规范要求\"\n",
    "inspection_lot.range('AC13').value =\"管道支吊架的安装：平整牢固\\n其间距符合图纸和规范要求\"\n",
    "\n",
    "#一般项目\n",
    "inspection_lot.range('BD46').value =\"总测点数：20，合格点数：20。合格点率：100%。\"\n",
    "\n",
    "#材料规定\n",
    "inspection_lot.range('BD61').value =\"经检查：管道采用的管件与管材相适应，阀门水压试验合格。符合要求\"\n",
    "\n",
    "#给水管道连接处渗漏问题防治\n",
    "inspection_lot.range('BD63').value =\"经检查：镀锌类管道未使用焊接连接，管件管材无混用，管道水压试验合格。符合要求\"\n",
    "\n",
    "\n",
    "\n",
    "if basic_info[\"是否隐蔽\"] == \"是\":\n",
    "    wb5.save(str(folder_path+\"\\\\工序报验\\\\%s - 06检验批验收记录.xls\") % basic_info[\"工序内容\"])\n",
    "else:\n",
    "        wb5.save(str(folder_path+\"\\\\工序报验\\\\%s - 05检验批验收记录.xls\") % basic_info[\"工序内容\"])\n",
    " #wb5.close()\n",
    "\n",
    "\n",
    "#检验批原始资料中的数据需要根据实际填写，故表格不关闭"
   ]
  },
  {
   "cell_type": "code",
   "execution_count": null,
   "metadata": {},
   "outputs": [],
   "source": []
  }
 ],
 "metadata": {
  "kernelspec": {
   "display_name": "Python 3",
   "language": "python",
   "name": "python3"
  },
  "language_info": {
   "codemirror_mode": {
    "name": "ipython",
    "version": 3
   },
   "file_extension": ".py",
   "mimetype": "text/x-python",
   "name": "python",
   "nbconvert_exporter": "python",
   "pygments_lexer": "ipython3",
   "version": "3.8.3"
  }
 },
 "nbformat": 4,
 "nbformat_minor": 2
}
