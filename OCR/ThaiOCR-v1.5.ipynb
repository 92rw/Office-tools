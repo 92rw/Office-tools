{
 "cells": [
  {
   "cell_type": "markdown",
   "id": "f770c65e",
   "metadata": {},
   "source": [
    "* 前期准备\n",
    "\n",
    "* 1. 下载tesseract4.0：https://github.com/UB-Mannheim/tesseract/wiki\n",
    "\n",
    "\n",
    "* 2. tesseract安装\n",
    "\n",
    "\n",
    "* 3. 设置系统环境变量Path\n",
    "桌面上此电脑->右键属性->点击高级系统设置->在打开的系统属性界面->高级下面点击环境变量->在环境变量界面选择系统变量中选中path，然后点下面的编辑，打开编辑环境变量界面新建一个C:\\Program Files (x86)\\Tesseract-OCR的值，然后确定\n",
    "\n",
    "\n",
    "* 4. 新建系统变量TESSDATA_PREFIX\n",
    "系统变量下面新建一个TESSDATA_PREFIX变量名，路径就是tessdata文件夹的路径地址，复制过来即可\n",
    "\n",
    "\n",
    
    "\n",
    "pip install Pillow\n",
    "pip install pytesseract\n",
    "\n",
      
    "* 5. 查看软件版本及语言库\n",
    ">运行CMD命令\n",
    ">输入：\n",
    ">>tesseract -v\n",
    "\n",
    "可以看到版本信息\n",
    ">输入：\n",
    ">>tesseract --list-langs\n",
    "\n",
    "来查看本地Tesseract-OCR支持语言库\n",
    "\n",
    "\n",
    "* 6. python实现图像识别简单案例\n",
    "安装pytesseract包，pip安装即可。需要修改pytesseract.py文件，将此文件用记事本打开，找到tesseract_cmd路径，修改为你的 tesseract-OCR安装地址，如下：\n",
    ">tesseract_cmd = r'C:\\\\Program Files (x86)\\\\Tesseract-OCR\\\\tesseract.exe' # tesseract安装路径\n",
    "\n",
    "否则需手动指定路径，例如\n",
    ">pytesseract.pytesseract.tesseract_cmd = r'C:\\Program Files\\Tesseract-OCR\\tesseract.exe'\n",
    "\n",
    "\n",
    "参考链接：\n",
    "\n",
    "https://hackmd.io/@DCT/Tesseract-OCR-%E6%96%87%E5%AD%97%E8%BE%A8%E8%AD%98 其他比较直观的用途\n",
    "https://zhuanlan.zhihu.com/p/110647131 对图片进行了预处理\n",
    "https://www.cnblogs.com/lcawen/articles/7040005.html 加入训练字库\n",
    "https://blog.csdn.net/weixin_43656359/article/details/103401848 用于验证码等"
   ]
  },
  {
   "cell_type": "markdown",
   "id": "8a2272cc",
   "metadata": {},
   "source": [
    "## 初次运行时的调试（修改为“代码”后运行）"
   ]
  },
  {
   "cell_type": "markdown",
   "id": "69963a53",
   "metadata": {},
   "source": [
    "import pytesseract as pt # Tesseract OCR图像识别\n",
    "from PIL import Image\n",
    "\n",
    "image = Image.open(r'C:\\1\\RE0007.png') # 生成图片案例\n",
    "\n",
    "text = pt.image_to_string(image) # 调用pytesseract将图像转换成文字\n",
    "print(text)"
   ]
  },
  {
   "cell_type": "markdown",
   "id": "6c36fd06",
   "metadata": {},
   "source": [
    "## 2. 多个文件OCR（保留原文件名）"
   ]
  },
  {
   "cell_type": "code",
   "execution_count": 3,
   "id": "ac151ce5",
   "metadata": {},
   "outputs": [],
   "source": [
    "from PIL import Image\n",
    "import os\n",
    "import pytesseract"
   ]
  },
  {
   "cell_type": "code",
   "execution_count": 5,
   "id": "d5417522",
   "metadata": {},
   "outputs": [
    {
     "name": "stdout",
     "output_type": "stream",
     "text": [
      "请输入文件路径：C:\\1\n"
     ]
    }
   ],
   "source": [
    "folder_path=input('请输入文件路径：')\n",
    "fileList=os.listdir(folder_path)"
   ]
  },
  {
   "cell_type": "code",
   "execution_count": 12,
   "id": "d24c64cc",
   "metadata": {
    "scrolled": true
   },
   "outputs": [
    {
     "name": "stdout",
     "output_type": "stream",
     "text": [
      "已成功将  RE0001.png  扫描为  RE0001.png.txt\n",
      "已成功将  RE0002.png  扫描为  RE0002.png.txt\n",
      "已成功将  RE0003.png  扫描为  RE0003.png.txt\n",
      "已成功将  RE0004.png  扫描为  RE0004.png.txt\n",
      "已成功将  RE0005.png  扫描为  RE0005.png.txt\n",
      "已成功将  RE0006.png  扫描为  RE0006.png.txt\n",
      "已成功将  RE0007.png  扫描为  RE0007.png.txt\n",
      "已成功将  RE0008.png  扫描为  RE0008.png.txt\n",
      "已成功将  RE0009.png  扫描为  RE0009.png.txt\n",
      "已成功将  RE0010.png  扫描为  RE0010.png.txt\n",
      "已成功将  RE0011.png  扫描为  RE0011.png.txt\n",
      "已成功将  RE0012.png  扫描为  RE0012.png.txt\n",
      "已成功将  RE0013.png  扫描为  RE0013.png.txt\n",
      "已成功将  RE0014.png  扫描为  RE0014.png.txt\n",
      "已成功将  RE0015.png  扫描为  RE0015.png.txt\n",
      "已成功将  RE0016.png  扫描为  RE0016.png.txt\n",
      "已成功将  RE0017.png  扫描为  RE0017.png.txt\n",
      "已成功将  RE0018.png  扫描为  RE0018.png.txt\n",
      "已成功将  RE0019.png  扫描为  RE0019.png.txt\n",
      "已成功将  RE0020.png  扫描为  RE0020.png.txt\n",
      "已成功将  RE0021.png  扫描为  RE0021.png.txt\n",
      "已成功将  RE0022.png  扫描为  RE0022.png.txt\n",
      "已成功将  RE0023.png  扫描为  RE0023.png.txt\n",
      "已成功将  RE0024.png  扫描为  RE0024.png.txt\n",
      "已成功将  RE0025.png  扫描为  RE0025.png.txt\n",
      "已成功将  RE0026.png  扫描为  RE0026.png.txt\n",
      "已成功将  RE0027.png  扫描为  RE0027.png.txt\n",
      "已成功将  RE0028.png  扫描为  RE0028.png.txt\n",
      "已成功将  RE0029.png  扫描为  RE0029.png.txt\n",
      "已成功将  RE0030.png  扫描为  RE0030.png.txt\n",
      "已成功将  RE0031.png  扫描为  RE0031.png.txt\n",
      "已成功将  RE0032.png  扫描为  RE0032.png.txt\n",
      "当前任务已结束\n"
     ]
    }
   ],
   "source": [
    "for i in fileList:\n",
    "    os.chdir(folder_path)\n",
    "    txtname = i+'.txt' #扫描后的文件命名为“原文件名.txt”\n",
    "    with open(txtname,\"w\",encoding='utf-8') as f:\n",
    "        img = Image.open(str(folder_path+os.sep +i))\n",
    "        text = pytesseract.image_to_string(img, lang='eng')#可修改为其他语言\n",
    "        f.write(text)\n",
    "    print(\"已成功将 \",i,' 扫描为 ',txtname)\n",
    "    \n",
    "print(\"当前任务已结束\")"
   ]
  },
  {
   "cell_type": "code",
   "execution_count": null,
   "id": "1cda9652",
   "metadata": {},
   "outputs": [],
   "source": []
  }
 ],
 "metadata": {
  "kernelspec": {
   "display_name": "Python 3 (ipykernel)",
   "language": "python",
   "name": "python3"
  },
  "language_info": {
   "codemirror_mode": {
    "name": "ipython",
    "version": 3
   },
   "file_extension": ".py",
   "mimetype": "text/x-python",
   "name": "python",
   "nbconvert_exporter": "python",
   "pygments_lexer": "ipython3",
   "version": "3.9.7"
  }
 },
 "nbformat": 4,
 "nbformat_minor": 5
}
