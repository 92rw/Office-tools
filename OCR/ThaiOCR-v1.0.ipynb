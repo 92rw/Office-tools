{
 "cells": [
  {
   "cell_type": "markdown",
   "metadata": {},
   "source": [
    "# 离线OCR使用说明\n",
    "\n",
    "此程序基于[EasyOCR](https://github.com/JaidedAI/EasyOCR)实现，初次安装需要先使用命令\n",
    ">pip install easyocr\n",
    "\n",
    "下载相关安装包。支持80+种语言，OCR前需要先配置其可选的语言包，当前支持OCR的语言详见[这个链接](https://www.jaided.ai/easyocr/)\n",
    "\n",
    "扫描完成后会提示`当前任务已结束`，程序可以放在后台运行。\n",
    "\n",
    "**注意** ：文件名只能由数字+英文组成，不能包含其他字符"
   ]
  },
  {
   "cell_type": "markdown",
   "metadata": {},
   "source": [
    "## 1. 单个文件OCR"
   ]
  },
  {
   "cell_type": "code",
   "execution_count": null,
   "metadata": {},
   "outputs": [],
   "source": [
    "import easyocr\n",
    "import os\n",
    "reader = easyocr.Reader(['th','en']) # need to run only once to load model into memory"
   ]
  },
  {
   "cell_type": "code",
   "execution_count": null,
   "metadata": {
    "scrolled": false
   },
   "outputs": [],
   "source": [
    "picture_name = \"0001.png\"#图片名\n",
    "\n",
    "OCR_result = reader.readtext(picture_name, detail = 0)    \n",
    "with open(\"扫描结果.txt\",\"w\",encoding='utf-8') as f:\n",
    "    for item in OCR_result:\n",
    "        f.write(\"%s\\n\" % item)\n",
    "print(\"扫描完成\")"
   ]
  },
  {
   "cell_type": "markdown",
   "metadata": {},
   "source": [
    "## 2. 多个文件OCR（保留原文件名）"
   ]
  },
  {
   "cell_type": "code",
   "execution_count": null,
   "metadata": {},
   "outputs": [],
   "source": [
    "import easyocr\n",
    "import os\n",
    "reader = easyocr.Reader(['th','en']) "
   ]
  },
  {
   "cell_type": "code",
   "execution_count": null,
   "metadata": {
    "scrolled": true
   },
   "outputs": [],
   "source": [
    "folder_path=input('请输入文件路径：')\n",
    "fileList=os.listdir(folder_path)"
   ]
  },
  {
   "cell_type": "code",
   "execution_count": null,
   "metadata": {},
   "outputs": [],
   "source": [
    "for i in fileList:\n",
    "    OCR_result = reader.readtext(str(folder_path+os.sep +i), detail = 0)\n",
    "    os.chdir(folder_path)\n",
    "    txtname = i+'.txt' #扫描后的文件命名为“原文件名.txt”\n",
    "    with open(txtname,\"w\",encoding='utf-8') as f:\n",
    "        for item in OCR_result:\n",
    "            f.write(\"%s\\n\" % item)\n",
    "    print(\"已成功将 \",i,' 扫描为 ',txtname)\n",
    "    \n",
    "print(\"当前任务已结束\")"
   ]
  },
  {
   "cell_type": "markdown",
   "metadata": {},
   "source": [
    "## 3. 多个文件OCR（重命名）"
   ]
  },
  {
   "cell_type": "code",
   "execution_count": null,
   "metadata": {},
   "outputs": [],
   "source": [
    "import easyocr\n",
    "import os\n",
    "reader = easyocr.Reader(['th','en']) "
   ]
  },
  {
   "cell_type": "code",
   "execution_count": null,
   "metadata": {},
   "outputs": [],
   "source": [
    "folder_path = input('请输入文件路径：')\n",
    "fileList = os.listdir(folder_path)\n",
    "rename = input('请输入新文件名称前缀：')"
   ]
  },
  {
   "cell_type": "code",
   "execution_count": null,
   "metadata": {},
   "outputs": [],
   "source": [
    "index = 0\n",
    "while index < len(fileList):\n",
    "    OCR_result = reader.readtext(str(folder_path+os.sep +fileList[index]), detail = 0)\n",
    "    num_list = str(index+1).zfill(len(str(len(fileList))))#自动补0\n",
    "    txtname = str(rename+num_list+\".txt\")\n",
    "    os.chdir(folder_path)\n",
    "    with open(txtname,\"w\",encoding='utf-8') as f:\n",
    "        for item in OCR_result:\n",
    "            f.write(\"%s\\n\" % item)\n",
    "    print(\"已成功将 \",fileList[index],' 扫描为 ',txtname)\n",
    "    index += 1\n",
    "\n",
    "print(\"当前任务已结束\")"
   ]
  },
  {
   "cell_type": "markdown",
   "metadata": {},
   "source": [
    "[点此](https://github.com/92rw/Office-tools)回到Github仓库页面。"
   ]
  }
 ],
 "metadata": {
  "kernelspec": {
   "display_name": "Python 3",
   "language": "python",
   "name": "python3"
  },
  "language_info": {
   "codemirror_mode": {
    "name": "ipython",
    "version": 3
   },
   "file_extension": ".py",
   "mimetype": "text/x-python",
   "name": "python",
   "nbconvert_exporter": "python",
   "pygments_lexer": "ipython3",
   "version": "3.8.3"
  }
 },
 "nbformat": 4,
 "nbformat_minor": 4
}
