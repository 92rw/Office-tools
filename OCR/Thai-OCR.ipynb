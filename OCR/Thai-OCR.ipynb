{
 "cells": [
  {
   "cell_type": "markdown",
   "metadata": {},
   "source": [
    "# 离线OCR使用说明\n",
    "\n",
    "此程序基于[EasyOCR](https://github.com/JaidedAI/EasyOCR)实现，初次安装需要先使用命令\n",
    ">pip install easyocr\n",
    "\n",
    "下载相关安装包。支持80+种语言，OCR前需要先配置其可选的语言包，语言包的名称详见[这个链接](https://www.jaided.ai/easyocr/)\n",
    "\n",
    "扫描完成后会提示`当前任务已结束`，程序可以放在后台运行。\n",
    "\n",
    "**注意** ：文件名只能由数字+英文组成，不能包含其他字符"
   ]
  },
  {
   "cell_type": "code",
   "execution_count": null,
   "metadata": {},
   "outputs": [],
   "source": [
    "import easyocr\n",
    "import os\n",
    "reader = easyocr.Reader(['th','en']) # need to run only once to load model into memory"
   ]
  },
  {
   "cell_type": "code",
   "execution_count": null,
   "metadata": {
    "scrolled": true
   },
   "outputs": [],
   "source": [
    "folder_path=input('请输入文件路径：')"
   ]
  },
  {
   "cell_type": "code",
   "execution_count": null,
   "metadata": {},
   "outputs": [],
   "source": [
    "fileList=os.listdir(folder_path)\n",
    "for i in fileList:\n",
    "    OCR_result = reader.readtext(str(folder_path+os.sep +i), detail = 0)\n",
    "    os.chdir(folder_path)\n",
    "    txtname = i+'.txt' #扫描后的文件命名为“原文件名.txt”\n",
    "    with open(txtname,\"w\",encoding='utf-8') as f:\n",
    "        for item in OCR_result:\n",
    "            f.write(\"%s\\n\" % item)\n",
    "    \n",
    "    \n",
    "    print(\"已成功将\",i,'扫描为',txtname)#添加路径可在txtname前加入folder_path+os.sep+\n",
    "    \n",
    "    \n",
    "print(\"当前任务已结束\")"
   ]
  },
  {
   "cell_type": "markdown",
   "metadata": {},
   "source": [
    "[点此](https://github.com/92rw/Office-tools)回到Github仓库页面。"
   ]
  }
 ],
 "metadata": {
  "kernelspec": {
   "display_name": "Python 3",
   "language": "python",
   "name": "python3"
  },
  "language_info": {
   "codemirror_mode": {
    "name": "ipython",
    "version": 3
   },
   "file_extension": ".py",
   "mimetype": "text/x-python",
   "name": "python",
   "nbconvert_exporter": "python",
   "pygments_lexer": "ipython3",
   "version": "3.8.3"
  }
 },
 "nbformat": 4,
 "nbformat_minor": 4
}
