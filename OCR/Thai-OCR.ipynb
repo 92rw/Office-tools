{
 "cells": [
  {
   "cell_type": "markdown",
   "metadata": {},
   "source": [
    "# 说明文档\n",
    "\n",
    "此程序基于[EasyOCR](https://github.com/JaidedAI/EasyOCR)实现，初次安装需要先使用命令`pip install easyocr`下载相关安装包。\n",
    "\n",
    "当前支持80+种语言，OCR前需要先配置其可选的语言包，语言包的名称详见[这个链接](https://www.jaided.ai/easyocr/)"
   ]
  },
  {
   "cell_type": "code",
   "execution_count": null,
   "metadata": {},
   "outputs": [],
   "source": [
    "import easyocr\n",
    "import os"
   ]
  },
  {
   "cell_type": "code",
   "execution_count": null,
   "metadata": {},
   "outputs": [],
   "source": [
    "reader = easyocr.Reader(['th','en']) # need to run only once to load model into memory\n"
   ]
  },
  {
   "cell_type": "code",
   "execution_count": null,
   "metadata": {},
   "outputs": [],
   "source": [
    "folder_path=input('请输入文件路径(结尾加上/)：')       \n"
   ]
  },
  {
   "cell_type": "code",
   "execution_count": null,
   "metadata": {},
   "outputs": [],
   "source": [
    "fileList=os.listdir(folder_path)\n",
    "n=0\n",
    "\n",
    "for i in fileList:\n",
    "    OCR_result = reader.readtext(i, detail = 0)\n",
    "    os.chdir(folder_path)\n",
    "    txtname = i+'.txt' #扫描后的文件命名为“原文件名.txt”\n",
    "    with open(txtname,\"w\",encoding='utf-8') as f:\n",
    "        for item in OCR_result:\n",
    "            f.write(\"%s\\n\" % item)\n",
    "    \n",
    "    \n",
    "    print(\"已成功将\",i,'扫描为',txtname)#添加路径可在txtname前加入folder_path+os.sep+\n",
    "    \n",
    "    n+=1\n",
    "    \n",
    "print(\"当前任务已结束\")"
   ]
  }
 ],
 "metadata": {
  "kernelspec": {
   "display_name": "Python 3",
   "language": "python",
   "name": "python3"
  },
  "language_info": {
   "codemirror_mode": {
    "name": "ipython",
    "version": 3
   },
   "file_extension": ".py",
   "mimetype": "text/x-python",
   "name": "python",
   "nbconvert_exporter": "python",
   "pygments_lexer": "ipython3",
   "version": "3.8.3"
  }
 },
 "nbformat": 4,
 "nbformat_minor": 4
}
